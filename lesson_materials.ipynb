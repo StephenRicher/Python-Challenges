{
 "cells": [
  {
   "cell_type": "markdown",
   "metadata": {},
   "source": [
    "# Data Types"
   ]
  },
  {
   "cell_type": "markdown",
   "metadata": {},
   "source": [
    "## Strings"
   ]
  },
  {
   "cell_type": "code",
   "execution_count": 55,
   "metadata": {},
   "outputs": [
    {
     "name": "stdout",
     "output_type": "stream",
     "text": [
      "<class 'str'>\n"
     ]
    }
   ],
   "source": [
    "mystring = 'hello'\n",
    "print(type(string))"
   ]
  },
  {
   "cell_type": "markdown",
   "metadata": {},
   "source": [
    "### String methods - there are many more than this!"
   ]
  },
  {
   "cell_type": "code",
   "execution_count": 33,
   "metadata": {},
   "outputs": [
    {
     "name": "stdout",
     "output_type": "stream",
     "text": [
      "HELLO\n",
      "hello\n"
     ]
    }
   ],
   "source": [
    "# Convert strings to lower or upper case\n",
    "print(mystring.upper())\n",
    "print(mystring.lower())"
   ]
  },
  {
   "cell_type": "code",
   "execution_count": 34,
   "metadata": {},
   "outputs": [
    {
     "name": "stdout",
     "output_type": "stream",
     "text": [
      "True\n"
     ]
    }
   ],
   "source": [
    "# Check if string consists of alphabetic characters\n",
    "print(mystring.isalpha())"
   ]
  },
  {
   "cell_type": "code",
   "execution_count": 35,
   "metadata": {},
   "outputs": [
    {
     "name": "stdout",
     "output_type": "stream",
     "text": [
      "True\n",
      "True\n"
     ]
    }
   ],
   "source": [
    "# Check if string starts or ends with a specific string\n",
    "print(mystring.startswith('he'))\n",
    "print(mystring.endswith('o'))"
   ]
  },
  {
   "cell_type": "code",
   "execution_count": 36,
   "metadata": {},
   "outputs": [
    {
     "name": "stdout",
     "output_type": "stream",
     "text": [
      "hello\n"
     ]
    }
   ],
   "source": [
    "# Remove whitespace on both ends of string\n",
    "print('   hello     '.strip())"
   ]
  },
  {
   "cell_type": "code",
   "execution_count": 29,
   "metadata": {},
   "outputs": [
    {
     "name": "stdout",
     "output_type": "stream",
     "text": [
      "google\n"
     ]
    }
   ],
   "source": [
    "# Remove specific characters from both ends of string\n",
    "website = 'www.google.com'\n",
    "print(website.strip('wc.om'))"
   ]
  },
  {
   "cell_type": "code",
   "execution_count": 32,
   "metadata": {},
   "outputs": [
    {
     "name": "stdout",
     "output_type": "stream",
     "text": [
      "www.google.comhello\n",
      "hellohellohellohellohello\n"
     ]
    }
   ],
   "source": [
    "# Combinining strings\n",
    "print(website + mystring)\n",
    "print(mystring * 5)"
   ]
  },
  {
   "cell_type": "markdown",
   "metadata": {},
   "source": [
    "## Integers and Floats "
   ]
  },
  {
   "cell_type": "code",
   "execution_count": 41,
   "metadata": {},
   "outputs": [
    {
     "name": "stdout",
     "output_type": "stream",
     "text": [
      "<class 'int'>\n"
     ]
    }
   ],
   "source": [
    "# Integer\n",
    "myinteger = 1\n",
    "print(type(myinteger))"
   ]
  },
  {
   "cell_type": "code",
   "execution_count": 43,
   "metadata": {},
   "outputs": [
    {
     "name": "stdout",
     "output_type": "stream",
     "text": [
      "<class 'float'>\n"
     ]
    }
   ],
   "source": [
    "# Float\n",
    "myfloat = 1.0\n",
    "print(type(myfloat))"
   ]
  },
  {
   "cell_type": "code",
   "execution_count": 44,
   "metadata": {},
   "outputs": [
    {
     "name": "stdout",
     "output_type": "stream",
     "text": [
      "<class 'str'>\n"
     ]
    }
   ],
   "source": [
    "# Not an integer - because we have used quotes!\n",
    "number_string = '1'\n",
    "print(type(number_string))"
   ]
  },
  {
   "cell_type": "code",
   "execution_count": 54,
   "metadata": {},
   "outputs": [
    {
     "name": "stdout",
     "output_type": "stream",
     "text": [
      "1 + 1 = 2\n",
      "10 / 5 = 2.0\n",
      "5 * 2 = 10\n",
      "11 % 2 = 1\n",
      "2 ** 3 =  8\n"
     ]
    }
   ],
   "source": [
    "# Addition\n",
    "print('1 + 1 =', 1 + 1)\n",
    "# Division - will always produce a float\n",
    "print('10 / 5 =', 10 / 5)\n",
    "# Multiplication\n",
    "print('5 * 2 =', 5 * 2)\n",
    "# Remainder after division\n",
    "print('11 % 2 =', 11 % 2)\n",
    "# Exponent\n",
    "print('2 ** 3 = ', 2 ** 3)"
   ]
  },
  {
   "cell_type": "markdown",
   "metadata": {},
   "source": [
    "# A note about print() - relevant to challenge 1"
   ]
  },
  {
   "cell_type": "code",
   "execution_count": 56,
   "metadata": {},
   "outputs": [
    {
     "name": "stdout",
     "output_type": "stream",
     "text": [
      "Hello\n",
      "World\n"
     ]
    }
   ],
   "source": [
    "# When use print() it will automatically add a newline character to the end\n",
    "print('Hello')\n",
    "print('World')"
   ]
  },
  {
   "cell_type": "code",
   "execution_count": 57,
   "metadata": {},
   "outputs": [
    {
     "name": "stdout",
     "output_type": "stream",
     "text": [
      "HelloWorld\n"
     ]
    }
   ],
   "source": [
    "# However we can modify this behaviour...\n",
    "print('Hello', end = '')\n",
    "print('World')"
   ]
  },
  {
   "cell_type": "markdown",
   "metadata": {},
   "source": [
    "# Data Structures - Lists"
   ]
  },
  {
   "cell_type": "code",
   "execution_count": 73,
   "metadata": {},
   "outputs": [
    {
     "name": "stdout",
     "output_type": "stream",
     "text": [
      "[1, 'string', 1.5, ['a', 'b', 'c']]\n"
     ]
    }
   ],
   "source": [
    "# A list can store any datatypes and even other data structures (such as lists!).\n",
    "mylist = [1, 'string', 1.5, ['a', 'b', 'c']]\n",
    "print(mylist)"
   ]
  },
  {
   "cell_type": "code",
   "execution_count": 74,
   "metadata": {},
   "outputs": [
    {
     "name": "stdout",
     "output_type": "stream",
     "text": [
      "1\n",
      "['a', 'b', 'c']\n"
     ]
    }
   ],
   "source": [
    "# Indexing a list\n",
    "print(mylist[0]) # first element\n",
    "print(mylist[-1]) # last element"
   ]
  },
  {
   "cell_type": "code",
   "execution_count": 75,
   "metadata": {},
   "outputs": [
    {
     "name": "stdout",
     "output_type": "stream",
     "text": [
      "[1, 'string', 1.5]\n"
     ]
    }
   ],
   "source": [
    "# List slicing\n",
    "print(mylist[0:3]) # access from elements 0 to 3 but NOT INCLUDING 3"
   ]
  },
  {
   "cell_type": "code",
   "execution_count": 76,
   "metadata": {},
   "outputs": [
    {
     "name": "stdout",
     "output_type": "stream",
     "text": [
      "[1, 'string', 1.5, ['a', 'b', 'c'], 'new item']\n"
     ]
    }
   ],
   "source": [
    "# Adding new items to a list\n",
    "mylist.append('new item')\n",
    "print(mylist)"
   ]
  },
  {
   "cell_type": "code",
   "execution_count": 77,
   "metadata": {},
   "outputs": [
    {
     "name": "stdout",
     "output_type": "stream",
     "text": [
      "[1, 'string', 1.5, ['a', 'b', 'c'], 'new item', 'bath', 'bristol', 'cardiff']\n"
     ]
    }
   ],
   "source": [
    "# Combing two lists together\n",
    "list2 = ['bath', 'bristol', 'cardiff']\n",
    "mylist.extend(list2)\n",
    "print(mylist)"
   ]
  },
  {
   "cell_type": "code",
   "execution_count": 80,
   "metadata": {},
   "outputs": [
    {
     "name": "stdout",
     "output_type": "stream",
     "text": [
      "[1.5, ['a', 'b', 'c'], 'new item', 'bath', 'bristol']\n"
     ]
    }
   ],
   "source": [
    "# Remove a specific index from a list\n",
    "del mylist[-1] # remove last element\n",
    "print(mylist)"
   ]
  },
  {
   "cell_type": "markdown",
   "metadata": {},
   "source": [
    "## Looping - The 'for' loop\n",
    "\n",
    "The loop is a fundamental concept in programming - we can use it to run the same piece of code many times."
   ]
  },
  {
   "cell_type": "code",
   "execution_count": 90,
   "metadata": {},
   "outputs": [
    {
     "name": "stdout",
     "output_type": "stream",
     "text": [
      "h\n",
      "e\n",
      "l\n",
      "l\n",
      "o\n"
     ]
    }
   ],
   "source": [
    "# Looping through characters in a string\n",
    "mystring = 'hello'\n",
    "for myletter in mystring:\n",
    "    print(myletter)"
   ]
  },
  {
   "cell_type": "code",
   "execution_count": 91,
   "metadata": {},
   "outputs": [
    {
     "name": "stdout",
     "output_type": "stream",
     "text": [
      "1\n",
      "a\n",
      "b\n",
      "5.5\n"
     ]
    }
   ],
   "source": [
    "# Looping through items in a list\n",
    "mylist = [1, 'a', 'b', 5.5]\n",
    "for myitem in mylist:\n",
    "    print(myitem)"
   ]
  },
  {
   "cell_type": "code",
   "execution_count": 95,
   "metadata": {},
   "outputs": [
    {
     "name": "stdout",
     "output_type": "stream",
     "text": [
      "0, 1, 2, 3, 4, 5, 6, 7, 8, 9, 10, 11, 12, 13, 14, 15, 16, 17, 18, 19, 20, 21, 22, 23, 24, 25, 26, 27, 28, 29, 30, 31, 32, 33, 34, 35, 36, 37, 38, 39, 40, 41, 42, 43, 44, 45, 46, 47, 48, 49, 50, 51, 52, 53, 54, 55, 56, 57, 58, 59, 60, 61, 62, 63, 64, 65, 66, 67, 68, 69, 70, 71, 72, 73, 74, 75, 76, 77, 78, 79, 80, 81, 82, 83, 84, 85, 86, 87, 88, 89, 90, 91, 92, 93, 94, 95, 96, 97, 98, 99, "
     ]
    }
   ],
   "source": [
    "# Looping through a range of numbers\n",
    "for number in range(100):\n",
    "    # Modify the 'end' argument of print to a 'comma with space' to save space\n",
    "    print(number, end = ', ')"
   ]
  },
  {
   "cell_type": "markdown",
   "metadata": {},
   "source": [
    "## Making choices - The 'if' statement"
   ]
  },
  {
   "cell_type": "code",
   "execution_count": 98,
   "metadata": {},
   "outputs": [
    {
     "name": "stdout",
     "output_type": "stream",
     "text": [
      "37 is smaller than 100.\n"
     ]
    }
   ],
   "source": [
    "num = 37\n",
    "if num > 100:\n",
    "    print(num, 'is bigger than 100.')\n",
    "elif number < 100:\n",
    "    print(num, 'is smaller than 100.')\n",
    "else: \n",
    "    print(num, 'is equal to 100.')"
   ]
  },
  {
   "cell_type": "code",
   "execution_count": 99,
   "metadata": {},
   "outputs": [
    {
     "name": "stdout",
     "output_type": "stream",
     "text": [
      "At least one part is false.\n"
     ]
    }
   ],
   "source": [
    "# Combining statements with 'and'\n",
    "if (1 > 0) and (-1 > 0):\n",
    "    print('Both parts are true.')\n",
    "else:\n",
    "    print('At least one part is false.')"
   ]
  },
  {
   "cell_type": "code",
   "execution_count": 102,
   "metadata": {},
   "outputs": [
    {
     "name": "stdout",
     "output_type": "stream",
     "text": [
      "At least one test is true.\n"
     ]
    }
   ],
   "source": [
    "# Combining statements with 'or'\n",
    "if (1 < 0) or (-1 < 0):\n",
    "    print('At least one test is true.')"
   ]
  },
  {
   "cell_type": "code",
   "execution_count": 106,
   "metadata": {},
   "outputs": [
    {
     "name": "stdout",
     "output_type": "stream",
     "text": [
      "1 is greater than 0.\n"
     ]
    }
   ],
   "source": [
    "# Reverse the logic using 'not'\n",
    "if not (1 > 0):\n",
    "    print('1 is less than 0.')\n",
    "else:\n",
    "    print('1 is greater than 0.')"
   ]
  },
  {
   "cell_type": "markdown",
   "metadata": {},
   "source": [
    "## Dictionaries\n",
    "\n",
    "Very useful data structures.\n",
    "Can store data with an associated key."
   ]
  },
  {
   "cell_type": "code",
   "execution_count": 109,
   "metadata": {},
   "outputs": [],
   "source": [
    "# An empty dictionary\n",
    "mydictionary = {}"
   ]
  },
  {
   "cell_type": "code",
   "execution_count": 110,
   "metadata": {},
   "outputs": [],
   "source": [
    "# Adding a key to a dictionary\n",
    "mydictionary['key1'] = 1"
   ]
  },
  {
   "cell_type": "code",
   "execution_count": 113,
   "metadata": {},
   "outputs": [
    {
     "name": "stdout",
     "output_type": "stream",
     "text": [
      "{'key1': 3}\n"
     ]
    }
   ],
   "source": [
    "# Check if a key exists. If so add 1 to value. Otherwise create the key - useful for challenge 5\n",
    "if 'key1' in mydictionary:\n",
    "    mydictionary['key1'] += 1\n",
    "else:\n",
    "    mydictionary['key1'] = 1\n",
    "print(mydictionary)"
   ]
  },
  {
   "cell_type": "markdown",
   "metadata": {},
   "source": [
    "## Functions\n",
    "\n",
    "If you find yourself using the same segment of code over and over then creating a function is a good idea!\n",
    "It will make the code more readable and less error prone.\n",
    "If you want to update or fix your code you only need to change it in one place (the function)."
   ]
  },
  {
   "cell_type": "code",
   "execution_count": 115,
   "metadata": {},
   "outputs": [
    {
     "name": "stdout",
     "output_type": "stream",
     "text": [
      "Hello World\n"
     ]
    }
   ],
   "source": [
    "# A simple hello_world() function\n",
    "def hello_world():\n",
    "    print('Hello World')\n",
    "hello_world()\n"
   ]
  },
  {
   "cell_type": "code",
   "execution_count": 118,
   "metadata": {},
   "outputs": [
    {
     "name": "stdout",
     "output_type": "stream",
     "text": [
      "Hello World\n"
     ]
    }
   ],
   "source": [
    "# The above function does not return anything.\n",
    "# We can create a function that returns a variable for later use.\n",
    "def hello_world2():\n",
    "    message = 'Hello World'\n",
    "    return message\n",
    "\n",
    "mymessage = hello_world2()\n",
    "print(mymessage)"
   ]
  },
  {
   "cell_type": "code",
   "execution_count": 121,
   "metadata": {},
   "outputs": [
    {
     "name": "stdout",
     "output_type": "stream",
     "text": [
      "Hello World\n"
     ]
    }
   ],
   "source": [
    "# If we try that on our original function..\n",
    "no_return = hello_world()"
   ]
  },
  {
   "cell_type": "code",
   "execution_count": 120,
   "metadata": {},
   "outputs": [
    {
     "name": "stdout",
     "output_type": "stream",
     "text": [
      "None\n"
     ]
    }
   ],
   "source": [
    "# Nothing is returned - so we can use the output.\n",
    "print(no_return)"
   ]
  },
  {
   "cell_type": "code",
   "execution_count": 123,
   "metadata": {},
   "outputs": [],
   "source": [
    "# We can also add a parameter to our function.\n",
    "# This makes the function more flexible so it can be used in multiple ways.\n",
    "# Here we have added the name parameters with a default value of 'World'\n",
    "def hello_world3(name = 'World'):\n",
    "    message = f'Hello {name}'\n",
    "    return message"
   ]
  },
  {
   "cell_type": "code",
   "execution_count": 126,
   "metadata": {},
   "outputs": [
    {
     "name": "stdout",
     "output_type": "stream",
     "text": [
      "Hello Stephen\n"
     ]
    }
   ],
   "source": [
    "custom_message = hello_world3(name = 'Stephen')\n",
    "print(custom_message)"
   ]
  },
  {
   "cell_type": "markdown",
   "metadata": {},
   "source": [
    "### A note about f-strings\n",
    "\n",
    "F-strings were introduced in python 3.6 and are very useful for create strings with variables inside them.\n",
    "An example is shown above in the hello_world3() function."
   ]
  },
  {
   "cell_type": "code",
   "execution_count": 139,
   "metadata": {},
   "outputs": [
    {
     "name": "stdout",
     "output_type": "stream",
     "text": [
      "Hello world\n"
     ]
    }
   ],
   "source": [
    "# To use f-strings beging typing a string with an 'f' on the front.\n",
    "myfstring = f'Hello world'\n",
    "print(myfstring)"
   ]
  },
  {
   "cell_type": "code",
   "execution_count": 138,
   "metadata": {},
   "outputs": [
    {
     "name": "stdout",
     "output_type": "stream",
     "text": [
      "One + One equals 2\n"
     ]
    }
   ],
   "source": [
    "# We can add whatever variables we want into the string by enclosing them in curly bracket\n",
    "myfstring2 = f'One + One equals {1 + 1}'\n",
    "print(myfstring2)"
   ]
  },
  {
   "cell_type": "code",
   "execution_count": 140,
   "metadata": {},
   "outputs": [],
   "source": [
    "# Finally it is good practise to add docstrings to your function.\n",
    "# This will allow other users (and future you!) to remember what the function is actually doing.\n",
    "# Docstrings are included immediately after the function definition a pair of triple quotes (\"\"\").\n",
    "# The style of your docstrings is up to you - the one below is a popular one!\n",
    "def hello_world4(name = 'World'):\n",
    "    \"\"\" Generate a Hello message.\n",
    "    \n",
    "    Parameters\n",
    "    ----------\n",
    "    name : str, optional\n",
    "        Who the message is addressed to.\n",
    "    Returns\n",
    "    -------\n",
    "    str\n",
    "        A Hello message.\n",
    "        \n",
    "    \"\"\"\n",
    "    message = f'Hello {name}'\n",
    "    return message"
   ]
  },
  {
   "cell_type": "code",
   "execution_count": 141,
   "metadata": {},
   "outputs": [
    {
     "name": "stdout",
     "output_type": "stream",
     "text": [
      "Help on function hello_world4 in module __main__:\n",
      "\n",
      "hello_world4(name='World')\n",
      "    Generate a Hello message.\n",
      "    \n",
      "    Parameters\n",
      "    ----------\n",
      "    name : str, optional\n",
      "        Who the message is addressed to.\n",
      "    Returns\n",
      "    -------\n",
      "    str\n",
      "        A Hello message.\n",
      "\n"
     ]
    }
   ],
   "source": [
    "# Now when we use help() on our function we get a useful message!\n",
    "help(hello_world4)"
   ]
  },
  {
   "cell_type": "code",
   "execution_count": null,
   "metadata": {},
   "outputs": [],
   "source": []
  }
 ],
 "metadata": {
  "kernelspec": {
   "display_name": "Python 3",
   "language": "python",
   "name": "python3"
  },
  "language_info": {
   "codemirror_mode": {
    "name": "ipython",
    "version": 3
   },
   "file_extension": ".py",
   "mimetype": "text/x-python",
   "name": "python",
   "nbconvert_exporter": "python",
   "pygments_lexer": "ipython3",
   "version": "3.7.3"
  }
 },
 "nbformat": 4,
 "nbformat_minor": 2
}
