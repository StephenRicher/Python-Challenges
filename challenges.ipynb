{
 "cells": [
  {
   "cell_type": "code",
   "execution_count": 108,
   "metadata": {},
   "outputs": [],
   "source": [
    "%run challenges-solutions.ipynb"
   ]
  },
  {
   "cell_type": "code",
   "execution_count": 94,
   "metadata": {},
   "outputs": [
    {
     "name": "stdout",
     "output_type": "stream",
     "text": [
      "0\t1\t2\t3\t4\t5\t6\t7\t8\t9\n",
      "10\t11\t12\t13\t14\t15\t16\t17\t18\t19\n",
      "20\t21\t22\t23\t24\t25\t26\t27\t28\t29\n",
      "30\t31\t32\t33\t34\t35\t36\t37\t38\t39\n",
      "40\t41\t42\t43\t44\t45\t46\t47\t48\t49\n",
      "50\t51\t52\t53\t54\t55\t56\t57\t58\t59\n",
      "60\t61\t62\t63\t64\t65\t66\t67\t68\t69\n",
      "70\t71\t72\t73\t74\t75\t76\t77\t78\t79\n",
      "80\t81\t82\t83\t84\t85\t86\t87\t88\t89\n",
      "90\t91\t92\t93\t94\t95\t96\t97\t98\t99\n"
     ]
    }
   ],
   "source": [
    "number_square()"
   ]
  },
  {
   "cell_type": "code",
   "execution_count": 95,
   "metadata": {},
   "outputs": [
    {
     "name": "stdout",
     "output_type": "stream",
     "text": [
      "         ||         \n",
      "        ||||        \n",
      "       ||||||       \n",
      "      ||||||||      \n",
      "     ||||||||||     \n",
      "    ||||||||||||    \n",
      "   ||||||||||||||   \n",
      "  ||||||||||||||||  \n",
      " |||||||||||||||||| \n",
      "||||||||||||||||||||\n"
     ]
    }
   ],
   "source": [
    "build_pyramid()"
   ]
  },
  {
   "cell_type": "code",
   "execution_count": 111,
   "metadata": {},
   "outputs": [
    {
     "name": "stdout",
     "output_type": "stream",
     "text": [
      "0\t1\t1\t2\t3\t5\t8\t13\t21\t34\n",
      "55\t89\t144\t233\t377\t"
     ]
    }
   ],
   "source": [
    "fib_sequence = fibonacci()\n",
    "number_square(fib_sequence)"
   ]
  },
  {
   "cell_type": "code",
   "execution_count": 112,
   "metadata": {},
   "outputs": [
    {
     "name": "stdout",
     "output_type": "stream",
     "text": [
      "1\t2\t3\t5\t7\t11\t13\t17\t19\t23\n",
      "29\t31\t37\t41\t43\t"
     ]
    }
   ],
   "source": [
    "prime_sequence = primes()\n",
    "number_square(prime_sequence)"
   ]
  },
  {
   "cell_type": "code",
   "execution_count": 103,
   "metadata": {},
   "outputs": [
    {
     "name": "stdout",
     "output_type": "stream",
     "text": [
      "Khoor#Zruog\n",
      "Hello World\n"
     ]
    }
   ],
   "source": [
    "encrypted = caesar_cipher('Hello World', shift = 3)\n",
    "print(encrypted)\n",
    "decrypted = caesar_cipher(encrypted, shift = -3)\n",
    "print(decrypted)"
   ]
  },
  {
   "cell_type": "code",
   "execution_count": 113,
   "metadata": {},
   "outputs": [
    {
     "name": "stdout",
     "output_type": "stream",
     "text": [
      "{'i': 18708, 'f': 4580, 'y': 6936, 'o': 22090, 'u': 8817, 't': 18042, 'h': 10420, 'r': 10100, 'g': 7850, 'a': 23432, 'l': 11276, 's': 14988, 'd': 8939, 'c': 5644, 'm': 4397, 'p': 4038, 'n': 18234, 'w': 5926, 'b': 4750, 'k': 2500, 'v': 692, 'q': 109, 'j': 501, 'z': 231, 'x': 170, 'e': 6}\n"
     ]
    }
   ],
   "source": [
    "letter_counts = character_counter('gadsby.txt')\n",
    "print(letter_counts)"
   ]
  },
  {
   "cell_type": "code",
   "execution_count": null,
   "metadata": {},
   "outputs": [],
   "source": []
  }
 ],
 "metadata": {
  "kernelspec": {
   "display_name": "Python 3",
   "language": "python",
   "name": "python3"
  },
  "language_info": {
   "codemirror_mode": {
    "name": "ipython",
    "version": 3
   },
   "file_extension": ".py",
   "mimetype": "text/x-python",
   "name": "python",
   "nbconvert_exporter": "python",
   "pygments_lexer": "ipython3",
   "version": "3.7.3"
  }
 },
 "nbformat": 4,
 "nbformat_minor": 2
}
