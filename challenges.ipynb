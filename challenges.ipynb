{
 "cells": [
  {
   "cell_type": "code",
   "execution_count": 25,
   "metadata": {},
   "outputs": [],
   "source": [
    "# Import functions from challenges-solutions.ipynb\n",
    "%run challenges-solutions.ipynb"
   ]
  },
  {
   "cell_type": "markdown",
   "metadata": {},
   "source": [
    "### Challenge 1 - Tidy Printing\n",
    "\n",
    "Write some code to replicate the output shown below.\n",
    "\n",
    "Print the numbers 0 - 99, seperated by tabs and with line breaks every 10th number.\n",
    "\n",
    "**Extra tasks**\n",
    "1. Make your code into a function.\n",
    "2. Allow that function to accept any iterable object (e.g. a list or a string)\n",
    "3. Include an argument to modify where the line break occurs.\n",
    "4. Write a [docstring](https://numpydoc.readthedocs.io/en/latest/format.html#sections) for your function.\n",
    "\n",
    "**Hints**\n",
    "1. Take a look at the [documentation](https://docs.python.org/3/library/functions.html#print) for the print() function.\n",
    "    * The function has an end argument which defaults to a newline character ('\\n').\n",
    "    * What happens if you change that argument to something else like a tab character ('\\t')."
   ]
  },
  {
   "cell_type": "code",
   "execution_count": 26,
   "metadata": {},
   "outputs": [
    {
     "name": "stdout",
     "output_type": "stream",
     "text": [
      "0\t1\t2\t3\t4\t5\t6\t7\t8\t9\n",
      "10\t11\t12\t13\t14\t15\t16\t17\t18\t19\n",
      "20\t21\t22\t23\t24\t25\t26\t27\t28\t29\n",
      "30\t31\t32\t33\t34\t35\t36\t37\t38\t39\n",
      "40\t41\t42\t43\t44\t45\t46\t47\t48\t49\n",
      "50\t51\t52\t53\t54\t55\t56\t57\t58\t59\n",
      "60\t61\t62\t63\t64\t65\t66\t67\t68\t69\n",
      "70\t71\t72\t73\t74\t75\t76\t77\t78\t79\n",
      "80\t81\t82\t83\t84\t85\t86\t87\t88\t89\n",
      "90\t91\t92\t93\t94\t95\t96\t97\t98\t99\n"
     ]
    }
   ],
   "source": [
    "tidy_print()"
   ]
  },
  {
   "cell_type": "code",
   "execution_count": 21,
   "metadata": {},
   "outputs": [
    {
     "name": "stdout",
     "output_type": "stream",
     "text": [
      "a\tb\tc\td\te\tf\tg\th\ti\tj\n",
      "k\tl\tm\tn\to\tp\tq\tr\ts\tt\n",
      "u\tv\tw\tx\ty\tz\t"
     ]
    }
   ],
   "source": [
    "# Example using a list\n",
    "alphabet = ['a', 'b', 'c', 'd', 'e', 'f', 'g', 'h', 'i', 'j', \n",
    "            'k', 'l', 'm', 'n', 'o', 'p', 'q', 'r', 's', 't', \n",
    "            'u', 'v', 'w', 'x', 'y', 'z']\n",
    "tidy_print(alphabet)"
   ]
  },
  {
   "cell_type": "markdown",
   "metadata": {},
   "source": [
    "### Challenge 2 - Pyramid Building\n",
    "\n",
    "Write some code to replicate the output shown below.\n",
    "\n",
    "**Extra tasks**\n",
    "1. Make your code into a function.\n",
    "2. The function should accept a height variable to modify the pyramid height.\n",
    "3. The function should accept a character to modify the 'bricks' of the pyramid. Current default is '|'.\n",
    "3. Write a [docstring](https://numpydoc.readthedocs.io/en/latest/format.html#sections) for your function."
   ]
  },
  {
   "cell_type": "code",
   "execution_count": 22,
   "metadata": {},
   "outputs": [
    {
     "name": "stdout",
     "output_type": "stream",
     "text": [
      "         ||         \n",
      "        ||||        \n",
      "       ||||||       \n",
      "      ||||||||      \n",
      "     ||||||||||     \n",
      "    ||||||||||||    \n",
      "   ||||||||||||||   \n",
      "  ||||||||||||||||  \n",
      " |||||||||||||||||| \n",
      "||||||||||||||||||||\n"
     ]
    }
   ],
   "source": [
    "build_pyramid()"
   ]
  },
  {
   "cell_type": "code",
   "execution_count": 23,
   "metadata": {},
   "outputs": [
    {
     "name": "stdout",
     "output_type": "stream",
     "text": [
      "    @@    \n",
      "   @@@@   \n",
      "  @@@@@@  \n",
      " @@@@@@@@ \n",
      "@@@@@@@@@@\n"
     ]
    }
   ],
   "source": [
    "# Example using variable height and bricks\n",
    "build_pyramid(height=5, bricks='@')"
   ]
  },
  {
   "cell_type": "markdown",
   "metadata": {},
   "source": [
    "### Challenge 3 - Fibonacci Sequence\n",
    "\n",
    "Write some code to calculate the first 15 [fibonacci numbers](https://en.wikipedia.org/wiki/Fibonacci_number), starting with 0, 1, as shown below.\n",
    "\n",
    "**Extra tasks**\n",
    "1. Make your code into a function.\n",
    "2. The function should accept a variable to print out the first 'n' fibonacci numbers.\n",
    "3. The function should return a list of the fibonacci numbers.\n",
    "4. If you have modified your tidy_print() function (*see challenge 1*) to accept iterable, such as a list, then you can use this to print the output in a more readable way.\n",
    "5. Write a [docstring](https://numpydoc.readthedocs.io/en/latest/format.html#sections) for your function."
   ]
  },
  {
   "cell_type": "code",
   "execution_count": 7,
   "metadata": {},
   "outputs": [
    {
     "name": "stdout",
     "output_type": "stream",
     "text": [
      "0\t1\t1\t2\t3\t5\t8\t13\t21\t34\n",
      "55\t89\t144\t233\t377\t"
     ]
    }
   ],
   "source": [
    "fib_sequence = fibonacci()\n",
    "number_square(fib_sequence)"
   ]
  },
  {
   "cell_type": "code",
   "execution_count": 27,
   "metadata": {},
   "outputs": [
    {
     "name": "stdout",
     "output_type": "stream",
     "text": [
      "0\t1\t1\t2\t3\t5\t8\t13\t21\t34\n",
      "55\t89\t144\t233\t377\t610\t987\t1597\t2584\t4181\n",
      "6765\t10946\t17711\t28657\t46368\t75025\t121393\t196418\t317811\t514229\n"
     ]
    }
   ],
   "source": [
    "# Example with variable number of fibonacci numbers\n",
    "fib_sequence = fibonacci(nfibs=30)\n",
    "number_square(fib_sequence)"
   ]
  },
  {
   "cell_type": "markdown",
   "metadata": {},
   "source": [
    "### Challenge 4 - Prime Numbers\n",
    "\n",
    "Write some code to calculate the first 15 [prime numbers](https://en.wikipedia.org/wiki/Prime_number), as shown below.\n",
    "\n",
    "**Extra tasks**\n",
    "1. Make your code into a function.\n",
    "2. The function should accept a variable to print out the first 'n' prime numbers.\n",
    "3. The function should return a list of the prime numbers.\n",
    "4. If you have modified your tidy_print() function (*see challenge 1*) to accept iterable, such as a list, then you can use this to print the output in a more readable way.\n",
    "5. Write a [docstring](https://numpydoc.readthedocs.io/en/latest/format.html#sections) for your function."
   ]
  },
  {
   "cell_type": "code",
   "execution_count": 9,
   "metadata": {},
   "outputs": [
    {
     "name": "stdout",
     "output_type": "stream",
     "text": [
      "2\t3\t5\t7\t11\t13\t17\t19\t23\t29\n",
      "31\t37\t41\t43\t47\t"
     ]
    }
   ],
   "source": [
    "prime_sequence = primes()\n",
    "number_square(prime_sequence)"
   ]
  },
  {
   "cell_type": "markdown",
   "metadata": {},
   "source": [
    "### Challenge 5 - Caesar Cipher\n",
    "\n",
    "Write some code to apply a [Caesar Cipher](http://practicalcryptography.com/ciphers/caesar-cipher/) to some text, as shown below.\n",
    "\n",
    "**Extra tasks**\n",
    "1. Make your code into a function.\n",
    "2. The function should accept message and a number specifying the number to shift each character by.\n",
    "3. The function should return the shifted message.\n",
    "4. Write a [docstring](https://numpydoc.readthedocs.io/en/latest/format.html#sections) for your function."
   ]
  },
  {
   "cell_type": "code",
   "execution_count": 14,
   "metadata": {},
   "outputs": [
    {
     "name": "stdout",
     "output_type": "stream",
     "text": [
      "Khoor#Zruog\n",
      "Hello World\n"
     ]
    }
   ],
   "source": [
    "encrypted = caesar_cipher('Hello World', shift = 3)\n",
    "print(encrypted)\n",
    "decrypted = caesar_cipher(encrypted, shift = -3)\n",
    "print(decrypted)"
   ]
  },
  {
   "cell_type": "markdown",
   "metadata": {},
   "source": [
    "### Challenge 5 - Letter Counter\n",
    "\n",
    "Write some code to count the number of each alphabetic character in Gadsby, a 1939 novel by Ernest Vincent Wright.\n",
    "\n",
    "\n",
    " You should only consider alphabetic characters (a-z and A-Z) and ignore case - both 'a' and 'A' should count towards the number of 'a's.\n",
    "\n",
    "**Extra tasks**\n",
    "1. Make your code into a function.\n",
    "2. The function should accept a file path so you can use it to the count the number of letters in any text file.\n",
    "3. The function should return a dictionary where each key is a letter and each value is the count for that letter.\n",
    "3. Write a [docstring](https://numpydoc.readthedocs.io/en/latest/format.html#sections) for your function.\n",
    "4. Take a look at the frequency of each of the vowels - is there anything odd?\n",
    "\n",
    "**Hints**\n",
    "1. You don't need to explicity create a dictionary with all possible letters before hand. \n",
    "    * Create a new key the first time you encounter that letter.\n",
    "    * On the next time you see that letter add 1 to the counter.\n",
    "2. The text file is saved in '*data/gadsby.txt*'."
   ]
  },
  {
   "cell_type": "code",
   "execution_count": 29,
   "metadata": {},
   "outputs": [
    {
     "name": "stdout",
     "output_type": "stream",
     "text": [
      "23432\n"
     ]
    }
   ],
   "source": [
    "letter_counts = character_counter('data/gadsby.txt')\n",
    "print(letter_counts['a'])"
   ]
  }
 ],
 "metadata": {
  "kernelspec": {
   "display_name": "Python 3",
   "language": "python",
   "name": "python3"
  },
  "language_info": {
   "codemirror_mode": {
    "name": "ipython",
    "version": 3
   },
   "file_extension": ".py",
   "mimetype": "text/x-python",
   "name": "python",
   "nbconvert_exporter": "python",
   "pygments_lexer": "ipython3",
   "version": "3.7.3"
  }
 },
 "nbformat": 4,
 "nbformat_minor": 2
}
